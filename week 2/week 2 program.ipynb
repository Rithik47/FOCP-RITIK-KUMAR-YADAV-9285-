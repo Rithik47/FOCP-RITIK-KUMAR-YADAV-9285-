{
 "cells": [
  {
   "cell_type": "markdown",
   "id": "a619bb1f",
   "metadata": {},
   "source": [
    "# 1.Python program for a personalized greeting"
   ]
  },
  {
   "cell_type": "code",
   "execution_count": 1,
   "id": "f5851edc",
   "metadata": {},
   "outputs": [
    {
     "name": "stdout",
     "output_type": "stream",
     "text": [
      "Hello, what is your name? Rithik \n",
      "Hello, Rithik . Good to meet you!\n"
     ]
    }
   ],
   "source": [
    "#1.Python program for a personalized greeting\n",
    "\n",
    "user_name = input(\"Hello, what is your name? \")\n",
    "\n",
    "# Printing a personalized greeting\n",
    "print(\"Hello, \" + user_name + \". Good to meet you!\")"
   ]
  },
  {
   "cell_type": "markdown",
   "id": "8bc5245c",
   "metadata": {},
   "source": [
    "# 2.Python program to convert Celsius to Fahrenheit"
   ]
  },
  {
   "cell_type": "code",
   "execution_count": 2,
   "id": "4a856721",
   "metadata": {},
   "outputs": [
    {
     "name": "stdout",
     "output_type": "stream",
     "text": [
      "Enter a temperature in Celsius: 112\n",
      "112.0C is equivalent to 233.6F\n"
     ]
    }
   ],
   "source": [
    "#2.Python program to convert Celsius to Fahrenheit\n",
    "\n",
    "# Get the temperature in Celsius from the user\n",
    "celsius_temperature = float(input(\"Enter a temperature in Celsius: \"))\n",
    "\n",
    "# Convert Celsius to Fahrenheit\n",
    "fahrenheit_temperature = (celsius_temperature * 9/5) + 32\n",
    "\n",
    "# Display the result\n",
    "print(f\"{celsius_temperature}C is equivalent to {fahrenheit_temperature}F\")\n"
   ]
  },
  {
   "cell_type": "markdown",
   "id": "2f78eff7",
   "metadata": {},
   "source": [
    "# 3.Python program to calculate the number of groups and students left over"
   ]
  },
  {
   "cell_type": "code",
   "execution_count": 3,
   "id": "6712e3ad",
   "metadata": {},
   "outputs": [
    {
     "name": "stdout",
     "output_type": "stream",
     "text": [
      "How many students? 112\n",
      "Required group size? 5\n",
      "There will be 22 groups with 2 students left over.\n"
     ]
    }
   ],
   "source": [
    "#3.Python program to calculate the number of groups and students left over\n",
    "\n",
    "# Getting the number of students and group size from the user\n",
    "num_students = int(input(\"How many students? \"))\n",
    "group_size = int(input(\"Required group size? \"))\n",
    "\n",
    "# Calculating the number of groups and students left over\n",
    "num_groups = num_students // group_size\n",
    "students_left_over = num_students % group_size\n",
    "\n",
    "# Display the result with proper grammar\n",
    "if num_groups == 1 and students_left_over == 1:\n",
    "    print(f\"There will be 1 group with 1 student left over.\")\n",
    "elif num_groups == 1:\n",
    "    print(f\"There will be 1 group with {students_left_over} students left over.\")\n",
    "elif students_left_over == 1:\n",
    "    print(f\"There will be {num_groups} groups with 1 student left over.\")\n",
    "else:\n",
    "    print(f\"There will be {num_groups} groups with {students_left_over} students left over.\")\n"
   ]
  },
  {
   "cell_type": "markdown",
   "id": "6b1a2dfb",
   "metadata": {},
   "source": [
    "# 4.Python program to distribute sweets among peoples"
   ]
  },
  {
   "cell_type": "code",
   "execution_count": 1,
   "id": "88d1c6bd",
   "metadata": {},
   "outputs": [],
   "source": [
    "# 4.Python program to distribute sweets among peoples\n",
    "\n",
    "total_sweets = int(input(\"Enter the total number of sweets: \"))\n",
    "num_peoples = int(input(\"Enter the number of peoples: \"))\n",
    "\n",
    "#Calculating how many sweets each people will get and how many will be left over.\n",
    "sweets_per_people = total_sweets // num_peoples\n",
    "left_over_sweets = total_sweets % num_peoples\n",
    "\n",
    "# Displaying the result\n",
    "print(f\"Each pupil will get {sweets_per_people} sweets, and there will be {left_over_sweets} sweets left over.\")\n"
   ]
  },
  {
   "cell_type": "code",
   "execution_count": null,
   "id": "9beb115b",
   "metadata": {},
   "outputs": [],
   "source": []
  }
 ],
 "metadata": {
  "kernelspec": {
   "display_name": "Python 3 (ipykernel)",
   "language": "python",
   "name": "python3"
  },
  "language_info": {
   "codemirror_mode": {
    "name": "ipython",
    "version": 3
   },
   "file_extension": ".py",
   "mimetype": "text/x-python",
   "name": "python",
   "nbconvert_exporter": "python",
   "pygments_lexer": "ipython3",
   "version": "3.11.1"
  }
 },
 "nbformat": 4,
 "nbformat_minor": 5
}
