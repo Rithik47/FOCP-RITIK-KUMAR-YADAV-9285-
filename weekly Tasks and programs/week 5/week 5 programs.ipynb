{
 "cells": [
  {
   "cell_type": "markdown",
   "id": "283753be",
   "metadata": {},
   "source": [
    "# 1.Using command-line arguments involves the sys module. Review the docs for this module and using the information in there write a short program that when run from the command-line reports what operating system platform is being used."
   ]
  },
  {
   "cell_type": "code",
   "execution_count": 1,
   "id": "5d45d4e5",
   "metadata": {},
   "outputs": [
    {
     "name": "stdout",
     "output_type": "stream",
     "text": [
      "The operating system platform is: win32\n"
     ]
    }
   ],
   "source": [
    "import sys\n",
    "\n",
    "def report_platform():\n",
    "    platform = sys.platform\n",
    "    print(f\"The operating system platform is: {platform}\")\n",
    "\n",
    "if __name__ == \"__main__\":\n",
    "    report_platform()\n"
   ]
  },
  {
   "cell_type": "markdown",
   "id": "e419dd1c",
   "metadata": {},
   "source": [
    "# 2.Write a program that, when run from the command line, reports how many arguments were provided. (Remember that the program name itself is not an argument)."
   ]
  },
  {
   "cell_type": "code",
   "execution_count": 2,
   "id": "79859ad2",
   "metadata": {},
   "outputs": [
    {
     "name": "stdout",
     "output_type": "stream",
     "text": [
      "Number of command-line arguments provided: 2\n"
     ]
    }
   ],
   "source": [
    "import sys\n",
    "\n",
    "def report_argument_count():\n",
    "    num_arguments = len(sys.argv) - 1  # Subtracting 1 to exclude the program name\n",
    "    print(f\"Number of command-line arguments provided: {num_arguments}\")\n",
    "\n",
    "if __name__ == \"__main__\":\n",
    "    report_argument_count()\n"
   ]
  },
  {
   "cell_type": "markdown",
   "id": "19a26ee5",
   "metadata": {},
   "source": [
    "# 3.Write a program that takes a bunch of command-line arguments, and then prints out the shortest. If there is more than one of the shortest length, any will do. Hint: Don't overthink this. A good way to find the shortest is just to sort them."
   ]
  },
  {
   "cell_type": "code",
   "execution_count": 3,
   "id": "a58ba942",
   "metadata": {},
   "outputs": [
    {
     "name": "stdout",
     "output_type": "stream",
     "text": [
      "The shortest command-line argument is: -f\n"
     ]
    }
   ],
   "source": [
    "import sys\n",
    "\n",
    "def find_shortest_argument(arguments):\n",
    "    if not arguments:\n",
    "        print(\"No command-line arguments provided.\")\n",
    "        return\n",
    "\n",
    "    shortest_argument = min(arguments, key=len)\n",
    "    print(f\"The shortest command-line argument is: {shortest_argument}\")\n",
    "\n",
    "if __name__ == \"__main__\":\n",
    "    # Exclude the program name from command-line arguments\n",
    "    command_line_arguments = sys.argv[1:]\n",
    "    find_shortest_argument(command_line_arguments)\n"
   ]
  },
  {
   "cell_type": "markdown",
   "id": "05878b52",
   "metadata": {},
   "source": [
    "# 4.Write a program that takes a URL as a command-line argument and reports  whether or not there is a working website at that address. Hint: You need to get the HTTP response code. Another Hint: StackOverflow is your friend"
   ]
  },
  {
   "cell_type": "code",
   "execution_count": 4,
   "id": "b20ffc99",
   "metadata": {},
   "outputs": [
    {
     "name": "stdout",
     "output_type": "stream",
     "text": [
      "Usage: python check_website.py <URL>\n"
     ]
    }
   ],
   "source": [
    "import sys\n",
    "import requests\n",
    "\n",
    "def check_website(url):\n",
    "    try:\n",
    "        response = requests.head(url)\n",
    "        if response.status_code == 200:\n",
    "            print(f\"The website at {url} is working.\")\n",
    "        else:\n",
    "            print(f\"There is an issue with the website at {url}. Response code: {response.status_code}\")\n",
    "    except requests.RequestException as e:\n",
    "        print(f\"Error: {e}\")\n",
    "\n",
    "if __name__ == \"__main__\":\n",
    "    # Ensure a URL is provided as a command-line argument\n",
    "    if len(sys.argv) != 2:\n",
    "        print(\"Usage: python check_website.py <URL>\")\n",
    "    else:\n",
    "        url = sys.argv[1]\n",
    "        check_website(url)\n"
   ]
  },
  {
   "cell_type": "markdown",
   "id": "cea20f01",
   "metadata": {},
   "source": [
    "# 5.Last week you wrote a program that processed a collection of temperature readings entered by the user and displayed the maximum, minimum, and mean. Create a version of that program that takes the values from the command-line instead. Be sure to handle the case where no arguments are provided!"
   ]
  },
  {
   "cell_type": "code",
   "execution_count": 1,
   "id": "796eb3a4",
   "metadata": {},
   "outputs": [
    {
     "name": "stdout",
     "output_type": "stream",
     "text": [
      "Error: Please provide valid numeric temperatures.\n"
     ]
    }
   ],
   "source": [
    "import sys\n",
    "\n",
    "def process_temperatures(temperatures):\n",
    "    if not temperatures:\n",
    "        print(\"No temperatures provided.\")\n",
    "        return\n",
    "\n",
    "    try:\n",
    "        temperatures = list(map(float, temperatures))\n",
    "        max_temperature = max(temperatures)\n",
    "        min_temperature = min(temperatures)\n",
    "        mean_temperature = sum(temperatures) / len(temperatures)\n",
    "\n",
    "        print(f\"Maximum Temperature: {max_temperature:.2f} F\")\n",
    "        print(f\"Minimum Temperature: {min_temperature:.2f} F\")\n",
    "        print(f\"Mean Temperature: {mean_temperature:.2f} F\")\n",
    "    except ValueError:\n",
    "        print(\"Error: Please provide valid numeric temperatures.\")\n",
    "\n",
    "if __name__ == \"__main__\":\n",
    "    # Exclude the program name from command-line arguments\n",
    "    command_line_arguments = sys.argv[1:]\n",
    "    process_temperatures(command_line_arguments)\n"
   ]
  },
  {
   "cell_type": "raw",
   "id": "df905545",
   "metadata": {},
   "source": [
    "6.Write a program that takes the name of a file as a command-line argument, and\n",
    "creates a backup copy of that file. The backup should contain an exact copy of the\n",
    "contents of the original and should, obviously, have a different name.\n",
    "Hint: By now, you should be getting the idea that there is a built-in way to do the\n",
    "heavy lift ing here! Take a look at the \"Brief Tour of the Standard Library\" in the docs."
   ]
  },
  {
   "cell_type": "code",
   "execution_count": 7,
   "id": "bf6aa8e5",
   "metadata": {},
   "outputs": [
    {
     "name": "stdout",
     "output_type": "stream",
     "text": [
      "Usage: python create_backup.py <filename>\n"
     ]
    }
   ],
   "source": [
    "import sys\n",
    "import shutil\n",
    "\n",
    "def create_backup(original_file):\n",
    "    try:\n",
    "        # Append '_backup' to the original filename to create the backup filename\n",
    "        backup_file = original_file.replace('.', '_backup.')\n",
    "\n",
    "        # Copy the contents of the original file to the backup file\n",
    "        shutil.copy2(original_file, backup_file)\n",
    "\n",
    "        print(f\"Backup created successfully. Original file: {original_file}, Backup file: {backup_file}\")\n",
    "    except FileNotFoundError:\n",
    "        print(f\"Error: File '{original_file}' not found.\")\n",
    "    except PermissionError:\n",
    "        print(f\"Error: Permission denied. Cannot create backup for '{original_file}'.\")\n",
    "\n",
    "if __name__ == \"__main__\":\n",
    "    # Ensure a filename is provided as a command-line argument\n",
    "    if len(sys.argv) != 2:\n",
    "        print(\"Usage: python create_backup.py <filename>\")\n",
    "    else:\n",
    "        filename = sys.argv[1]\n",
    "        create_backup(filename)\n",
    "\n"
   ]
  },
  {
   "cell_type": "code",
   "execution_count": null,
   "id": "a407fb14",
   "metadata": {},
   "outputs": [],
   "source": []
  }
 ],
 "metadata": {
  "kernelspec": {
   "display_name": "Python 3 (ipykernel)",
   "language": "python",
   "name": "python3"
  },
  "language_info": {
   "codemirror_mode": {
    "name": "ipython",
    "version": 3
   },
   "file_extension": ".py",
   "mimetype": "text/x-python",
   "name": "python",
   "nbconvert_exporter": "python",
   "pygments_lexer": "ipython3",
   "version": "3.9.13"
  }
 },
 "nbformat": 4,
 "nbformat_minor": 5
}
