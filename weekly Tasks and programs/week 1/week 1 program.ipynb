{
 "cells": [
  {
   "cell_type": "markdown",
   "id": "181a6fc4",
   "metadata": {},
   "source": [
    "# 1.Write a program that prints a cheery message (such as \"Hello World\") on thescreen. Run it, and note that you have taken the first step to becoming programmer!"
   ]
  },
  {
   "cell_type": "code",
   "execution_count": 1,
   "id": "48624133",
   "metadata": {},
   "outputs": [
    {
     "name": "stdout",
     "output_type": "stream",
     "text": [
      "Hello, World! My first step to become a programmer!\n"
     ]
    }
   ],
   "source": [
    "\n",
    "#cherry message program normally printing hello world !\n",
    "def print_cheery_message():\n",
    "    print(\"Hello, World! My first step to become a programmer!\")\n",
    "\n",
    "if __name__ == \"__main__\":\n",
    "    print_cheery_message()\n"
   ]
  },
  {
   "cell_type": "markdown",
   "id": "99ac5016",
   "metadata": {},
   "source": [
    "# 2. Make a copy of the previous program, and modify it so that it displays your name.So if your name is Herbert the message should become: Hello, Herbert!\n"
   ]
  },
  {
   "cell_type": "code",
   "execution_count": 2,
   "id": "53b0b0a5",
   "metadata": {},
   "outputs": [
    {
     "name": "stdout",
     "output_type": "stream",
     "text": [
      "Hello, RITIK YADAV! Congratulations on your first step to become a programmer!\n"
     ]
    }
   ],
   "source": [
    "# Personalized Cheery Message Program\n",
    "\n",
    "def print_personalized_cheery_message(name):\n",
    "    print(f\"Hello, {name}! Congratulations on your first step to become a programmer!\")\n",
    "\n",
    "# Running the program with my name\n",
    "if __name__ == \"__main__\":\n",
    "    your_name = \"RITIK YADAV\"  \n",
    "    print_personalized_cheery_message(your_name)\n"
   ]
  },
  {
   "cell_type": "markdown",
   "id": "1894ee59",
   "metadata": {},
   "source": [
    "# 3.Over the summer, temperatures in Yorkshire reached 38.4C. Write a program that converts this value in Celsius to the equivalent temperature in Fahrenheit, and then displays both."
   ]
  },
  {
   "cell_type": "code",
   "execution_count": 3,
   "id": "fa7f63d7",
   "metadata": {},
   "outputs": [
    {
     "name": "stdout",
     "output_type": "stream",
     "text": [
      "38.4 degrees Celsius is equal to 101.12 degrees Fahrenheit.\n"
     ]
    }
   ],
   "source": [
    "# Celsius to Fahrenheit Conversion Program\n",
    "\n",
    "def celsius_to_fahrenheit(celsius):\n",
    "    fahrenheit = (celsius * 9/5) + 32\n",
    "    return fahrenheit\n",
    "\n",
    "# Run the program\n",
    "if __name__ == \"__main__\":\n",
    "    celsius_temperature = 38.4\n",
    "\n",
    "    # Convert Celsius to Fahrenheit\n",
    "    fahrenheit_temperature = celsius_to_fahrenheit(celsius_temperature)\n",
    "\n",
    "    # Displaying the temperatures\n",
    "    print(f\"{celsius_temperature} degrees Celsius is equal to {fahrenheit_temperature:.2f} degrees Fahrenheit.\")\n"
   ]
  },
  {
   "cell_type": "markdown",
   "id": "1fad6ae9",
   "metadata": {},
   "source": [
    "# 4. In a long career for Yorkshire, Geoffrey Boycott played 609 matches, batted 1014 times, was not out 162 times, and scored 48426 runs. Write a program to calculate and display Boycott's batting average. Note: A batting average is the number of runs scored divided by the number of completed innings (i.e. the total times batted minus the times not out)."
   ]
  },
  {
   "cell_type": "code",
   "execution_count": 4,
   "id": "4343cab5",
   "metadata": {},
   "outputs": [
    {
     "name": "stdout",
     "output_type": "stream",
     "text": [
      "Geoffrey Boycott's batting average is: 56.84\n"
     ]
    }
   ],
   "source": [
    "# Batting Average Calculation Program\n",
    "\n",
    "def calculate_batting_average(runs, times_batted, not_out):\n",
    "    total_innings = times_batted - not_out\n",
    "    batting_average = runs / total_innings\n",
    "    return batting_average\n",
    "\n",
    "# Geoffrey Boycott's career stats\n",
    "total_runs = 48426\n",
    "times_batted = 1014\n",
    "not_out = 162\n",
    "\n",
    "# Calculate batting average\n",
    "boycott_batting_average = calculate_batting_average(total_runs, times_batted, not_out)\n",
    "\n",
    "# Display the batting average\n",
    "print(f\"Geoffrey Boycott's batting average is: {boycott_batting_average:.2f}\")\n"
   ]
  },
  {
   "cell_type": "markdown",
   "id": "69373f7e",
   "metadata": {},
   "source": [
    "# 5.The Head of Computing at the University of Poppleton is tasked with dividing a group of students into lab groups. A lab group is 24 students, since this is the number of PCs in a lab. Write a program that calculates how many groups are needed for the following number of students: 113, 175, 12. Display how many full groups there will be, and how many students will be in the smaller \"left over\" group"
   ]
  },
  {
   "cell_type": "code",
   "execution_count": 5,
   "id": "4dc05c8b",
   "metadata": {},
   "outputs": [
    {
     "name": "stdout",
     "output_type": "stream",
     "text": [
      "For 113 students, you need 4 full groups and 17 students in the smaller group.\n",
      "For 175 students, you need 7 full groups and 7 students in the smaller group.\n",
      "For 12 students, you need 0 full groups and 12 students in the smaller group.\n"
     ]
    }
   ],
   "source": [
    "# 5. Lab Group Calculation Program code\n",
    "\n",
    "def calculate_lab_groups(students):\n",
    "    lab_group_size = 24\n",
    "\n",
    "    # Calculating full groups and remaining students\n",
    "    full_groups = students // lab_group_size\n",
    "    remaining_students = students % lab_group_size\n",
    "\n",
    "    return full_groups, remaining_students\n",
    "\n",
    "# Students for whom lab groups need to be formed\n",
    "students_list = [113, 175, 12]\n",
    "\n",
    "# Calculating and displaying0 lab groups for each number of students\n",
    "for students in students_list:\n",
    "    full_groups, remaining_students = calculate_lab_groups(students)\n",
    "    print(f\"For {students} students, you need {full_groups} full groups and {remaining_students} students in the smaller group.\")\n"
   ]
  },
  {
   "cell_type": "code",
   "execution_count": null,
   "id": "9ec6ab66",
   "metadata": {},
   "outputs": [],
   "source": []
  }
 ],
 "metadata": {
  "kernelspec": {
   "display_name": "Python 3 (ipykernel)",
   "language": "python",
   "name": "python3"
  },
  "language_info": {
   "codemirror_mode": {
    "name": "ipython",
    "version": 3
   },
   "file_extension": ".py",
   "mimetype": "text/x-python",
   "name": "python",
   "nbconvert_exporter": "python",
   "pygments_lexer": "ipython3",
   "version": "3.11.1"
  }
 },
 "nbformat": 4,
 "nbformat_minor": 5
}
